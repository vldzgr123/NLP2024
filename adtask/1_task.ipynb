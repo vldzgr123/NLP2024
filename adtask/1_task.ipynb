{
 "cells": [
  {
   "cell_type": "markdown",
   "metadata": {},
   "source": [
    "# Задание 1. Классификация средствами PyTorch\n",
    "\n",
    "Используя свой датасет для классификации из курса дисциплины \"Машинное обучение\" описать и обучить модель для классификации с помощью PyTorch. Выбрать функцию потерь. Использовать объекты TensorDataset и DataLoader."
   ]
  },
  {
   "cell_type": "code",
   "execution_count": 12,
   "metadata": {},
   "outputs": [],
   "source": [
    "import pandas as pd\n",
    "from sklearn.model_selection import train_test_split\n",
    "from torch.utils.data import TensorDataset, DataLoader\n",
    "import torch.nn as nn"
   ]
  },
  {
   "cell_type": "code",
   "execution_count": 4,
   "metadata": {},
   "outputs": [],
   "source": [
    "data = pd.read_csv('../data/csgo_task.csv')"
   ]
  },
  {
   "cell_type": "code",
   "execution_count": 6,
   "metadata": {},
   "outputs": [
    {
     "data": {
      "text/html": [
       "<div>\n",
       "<style scoped>\n",
       "    .dataframe tbody tr th:only-of-type {\n",
       "        vertical-align: middle;\n",
       "    }\n",
       "\n",
       "    .dataframe tbody tr th {\n",
       "        vertical-align: top;\n",
       "    }\n",
       "\n",
       "    .dataframe thead th {\n",
       "        text-align: right;\n",
       "    }\n",
       "</style>\n",
       "<table border=\"1\" class=\"dataframe\">\n",
       "  <thead>\n",
       "    <tr style=\"text-align: right;\">\n",
       "      <th></th>\n",
       "      <th>time_left</th>\n",
       "      <th>ct_score</th>\n",
       "      <th>t_score</th>\n",
       "      <th>map</th>\n",
       "      <th>bomb_planted</th>\n",
       "      <th>ct_health</th>\n",
       "      <th>t_health</th>\n",
       "      <th>ct_armor</th>\n",
       "      <th>t_armor</th>\n",
       "      <th>ct_money</th>\n",
       "      <th>t_money</th>\n",
       "      <th>ct_helmets</th>\n",
       "      <th>t_helmets</th>\n",
       "      <th>ct_defuse_kits</th>\n",
       "      <th>ct_players_alive</th>\n",
       "      <th>t_players_alive</th>\n",
       "    </tr>\n",
       "  </thead>\n",
       "  <tbody>\n",
       "    <tr>\n",
       "      <th>0</th>\n",
       "      <td>175.00</td>\n",
       "      <td>0.0</td>\n",
       "      <td>0.0</td>\n",
       "      <td>de_dust2</td>\n",
       "      <td>False</td>\n",
       "      <td>500.0</td>\n",
       "      <td>500.0</td>\n",
       "      <td>0.0</td>\n",
       "      <td>0.0</td>\n",
       "      <td>4000.0</td>\n",
       "      <td>4000.0</td>\n",
       "      <td>0.0</td>\n",
       "      <td>0.0</td>\n",
       "      <td>0.0</td>\n",
       "      <td>5.0</td>\n",
       "      <td>5.0</td>\n",
       "    </tr>\n",
       "    <tr>\n",
       "      <th>1</th>\n",
       "      <td>156.03</td>\n",
       "      <td>0.0</td>\n",
       "      <td>0.0</td>\n",
       "      <td>de_dust2</td>\n",
       "      <td>False</td>\n",
       "      <td>500.0</td>\n",
       "      <td>500.0</td>\n",
       "      <td>400.0</td>\n",
       "      <td>300.0</td>\n",
       "      <td>600.0</td>\n",
       "      <td>650.0</td>\n",
       "      <td>0.0</td>\n",
       "      <td>0.0</td>\n",
       "      <td>1.0</td>\n",
       "      <td>5.0</td>\n",
       "      <td>5.0</td>\n",
       "    </tr>\n",
       "    <tr>\n",
       "      <th>2</th>\n",
       "      <td>96.03</td>\n",
       "      <td>0.0</td>\n",
       "      <td>0.0</td>\n",
       "      <td>de_dust2</td>\n",
       "      <td>False</td>\n",
       "      <td>391.0</td>\n",
       "      <td>400.0</td>\n",
       "      <td>294.0</td>\n",
       "      <td>200.0</td>\n",
       "      <td>750.0</td>\n",
       "      <td>500.0</td>\n",
       "      <td>0.0</td>\n",
       "      <td>0.0</td>\n",
       "      <td>1.0</td>\n",
       "      <td>4.0</td>\n",
       "      <td>4.0</td>\n",
       "    </tr>\n",
       "    <tr>\n",
       "      <th>3</th>\n",
       "      <td>76.03</td>\n",
       "      <td>0.0</td>\n",
       "      <td>0.0</td>\n",
       "      <td>de_dust2</td>\n",
       "      <td>False</td>\n",
       "      <td>391.0</td>\n",
       "      <td>400.0</td>\n",
       "      <td>294.0</td>\n",
       "      <td>200.0</td>\n",
       "      <td>750.0</td>\n",
       "      <td>500.0</td>\n",
       "      <td>0.0</td>\n",
       "      <td>0.0</td>\n",
       "      <td>1.0</td>\n",
       "      <td>4.0</td>\n",
       "      <td>4.0</td>\n",
       "    </tr>\n",
       "    <tr>\n",
       "      <th>4</th>\n",
       "      <td>174.97</td>\n",
       "      <td>1.0</td>\n",
       "      <td>0.0</td>\n",
       "      <td>de_dust2</td>\n",
       "      <td>False</td>\n",
       "      <td>500.0</td>\n",
       "      <td>500.0</td>\n",
       "      <td>192.0</td>\n",
       "      <td>0.0</td>\n",
       "      <td>18350.0</td>\n",
       "      <td>10750.0</td>\n",
       "      <td>0.0</td>\n",
       "      <td>0.0</td>\n",
       "      <td>1.0</td>\n",
       "      <td>5.0</td>\n",
       "      <td>5.0</td>\n",
       "    </tr>\n",
       "  </tbody>\n",
       "</table>\n",
       "</div>"
      ],
      "text/plain": [
       "   time_left  ct_score  t_score       map  bomb_planted  ct_health  t_health  \\\n",
       "0     175.00       0.0      0.0  de_dust2         False      500.0     500.0   \n",
       "1     156.03       0.0      0.0  de_dust2         False      500.0     500.0   \n",
       "2      96.03       0.0      0.0  de_dust2         False      391.0     400.0   \n",
       "3      76.03       0.0      0.0  de_dust2         False      391.0     400.0   \n",
       "4     174.97       1.0      0.0  de_dust2         False      500.0     500.0   \n",
       "\n",
       "   ct_armor  t_armor  ct_money  t_money  ct_helmets  t_helmets  \\\n",
       "0       0.0      0.0    4000.0   4000.0         0.0        0.0   \n",
       "1     400.0    300.0     600.0    650.0         0.0        0.0   \n",
       "2     294.0    200.0     750.0    500.0         0.0        0.0   \n",
       "3     294.0    200.0     750.0    500.0         0.0        0.0   \n",
       "4     192.0      0.0   18350.0  10750.0         0.0        0.0   \n",
       "\n",
       "   ct_defuse_kits  ct_players_alive  t_players_alive  \n",
       "0             0.0               5.0              5.0  \n",
       "1             1.0               5.0              5.0  \n",
       "2             1.0               4.0              4.0  \n",
       "3             1.0               4.0              4.0  \n",
       "4             1.0               5.0              5.0  "
      ]
     },
     "execution_count": 6,
     "metadata": {},
     "output_type": "execute_result"
    }
   ],
   "source": [
    "data.head()"
   ]
  },
  {
   "cell_type": "markdown",
   "metadata": {},
   "source": [
    "## Обработка"
   ]
  },
  {
   "cell_type": "markdown",
   "metadata": {},
   "source": [
    "- time_left - длительность раунда\n",
    "- ct_score - количество очков у команды контр-террористов\n",
    "- t_score - количество очков у террористов\n",
    "- map - карта\n",
    "- bomb_planted - установлена ли бомба\n",
    "- ct_health и t_health - суммарное здоровье контр-террористов и террористов соответственно\n",
    "- ct_armor и t_armor - суммарная броня контр-террористов и террористов соответственно\n",
    "- ct_money и t_money - суммарное количество денег контр-террористов и террористов соответственно\n",
    "- ct_helmets и t_helmets - суммарное количество шлемов контр-террористов и террористов соответственно\n",
    "- ct_defuse_kits - количество наборов обезвреживания бомбы у контр-террористо\n",
    "- ct_players_alive и t_players_alive - количество живых контр-террористов и террористов соответственно"
   ]
  },
  {
   "cell_type": "code",
   "execution_count": 7,
   "metadata": {},
   "outputs": [],
   "source": [
    "data.drop(['map'], axis=1, inplace=True)"
   ]
  },
  {
   "cell_type": "code",
   "execution_count": 8,
   "metadata": {},
   "outputs": [],
   "source": [
    "data.dropna(inplace=True)"
   ]
  },
  {
   "cell_type": "code",
   "execution_count": 9,
   "metadata": {},
   "outputs": [
    {
     "data": {
      "text/plain": [
       "time_left           0\n",
       "ct_score            0\n",
       "t_score             0\n",
       "bomb_planted        0\n",
       "ct_health           0\n",
       "t_health            0\n",
       "ct_armor            0\n",
       "t_armor             0\n",
       "ct_money            0\n",
       "t_money             0\n",
       "ct_helmets          0\n",
       "t_helmets           0\n",
       "ct_defuse_kits      0\n",
       "ct_players_alive    0\n",
       "t_players_alive     0\n",
       "dtype: int64"
      ]
     },
     "execution_count": 9,
     "metadata": {},
     "output_type": "execute_result"
    }
   ],
   "source": [
    "data.isna().sum()"
   ]
  },
  {
   "cell_type": "code",
   "execution_count": 10,
   "metadata": {},
   "outputs": [],
   "source": [
    "data = data.drop_duplicates().reset_index(drop=True)"
   ]
  },
  {
   "cell_type": "code",
   "execution_count": null,
   "metadata": {},
   "outputs": [],
   "source": [
    "columns_to_int = [\n",
    "    \"ct_score\",\n",
    "    \"t_score\",\n",
    "    \"ct_health\",\n",
    "    \"t_health\",\n",
    "    \"ct_armor\",\n",
    "    \"t_armor\",\n",
    "    \"ct_money\",\n",
    "    \"t_money\",\n",
    "    \"ct_helmets\",\n",
    "    \"t_helmets\",\n",
    "    \"ct_defuse_kits\",\n",
    "    \"ct_players_alive\",\n",
    "    \"t_players_alive\",\n",
    "    \"bomb_planted\",\n",
    "]\n",
    "\n",
    "for column in columns_to_int:\n",
    "    data[column] = data[column].astype(int)"
   ]
  },
  {
   "cell_type": "markdown",
   "metadata": {},
   "source": [
    "## Создание модели"
   ]
  },
  {
   "cell_type": "code",
   "execution_count": 11,
   "metadata": {},
   "outputs": [],
   "source": [
    "y, X = data['bomb_planted'].values, data.drop(columns=['bomb_planted']).values\n",
    "y = y.reshape(-1, 1)"
   ]
  },
  {
   "cell_type": "code",
   "execution_count": 13,
   "metadata": {},
   "outputs": [
    {
     "data": {
      "text/plain": [
       "((95189, 14), (16799, 14), (95189, 1), (16799, 1))"
      ]
     },
     "execution_count": 13,
     "metadata": {},
     "output_type": "execute_result"
    }
   ],
   "source": [
    "X_train, X_test, y_train, y_test = train_test_split(X, y, test_size=0.15)\n",
    "X_train.shape, X_test.shape, y_train.shape, y_test.shape"
   ]
  },
  {
   "cell_type": "code",
   "execution_count": null,
   "metadata": {},
   "outputs": [],
   "source": [
    "train_ds = TensorDataset(torch.from_numpy(X_train).type(torch.float32), torch.from_numpy(y_train).type(torch.float32))\n",
    "train_dl = DataLoader(train_ds, batch_size=256, shuffle=True)"
   ]
  },
  {
   "cell_type": "code",
   "execution_count": null,
   "metadata": {},
   "outputs": [],
   "source": [
    "x_c, y_c = next(iter(train_dl))\n",
    "x_c.shape, y_c.shape"
   ]
  },
  {
   "cell_type": "code",
   "execution_count": null,
   "metadata": {},
   "outputs": [],
   "source": [
    "test_ds = TensorDataset(torch.from_numpy(X_test), torch.from_numpy(y_test))\n",
    "test_dl = DataLoader(test_ds, batch_size=256, shuffle=True)"
   ]
  },
  {
   "cell_type": "code",
   "execution_count": null,
   "metadata": {},
   "outputs": [],
   "source": [
    "class MyRegressionModel(nn.Module):\n",
    "    # любая модель в PyTorch - это набор слоев\n",
    "    # при этом, мы сами определяем порядок их выполнения\n",
    "    # в конструкторе мы задаем набор слоев с указанием параметров\n",
    "    def __init__(self):\n",
    "        super(MyRegressionModel, self).__init__()\n",
    "        # определяем первый линейный слой (y = wx + b)\n",
    "        self.first_linear = nn.Linear(40, 120)\n",
    "        # определяем первый слой ReLU\n",
    "        self.first_relu = nn.ReLU()\n",
    "        self.second_linear = nn.Linear(120, 240)\n",
    "        self.second_relu = nn.ReLU()\n",
    "        self.third_linear = nn.Linear(240, 60)\n",
    "        self.third_relu = nn.ReLU()\n",
    "        self.fourth_linear = nn.Linear(60, 20)\n",
    "        self.fourth_relu = nn.ReLU()\n",
    "        self.fifth_linear = nn.Linear(20, 1)\n",
    "\n",
    "    # в методе forward мы определяем, как слои будут связаны друг с другом\n",
    "    def forward(self, x):\n",
    "        # y - результат выполнения первого слоя\n",
    "        y = self.first_linear(x)\n",
    "        # в теперь продолжаем накидывать оставшиеся слои\n",
    "        y = self.first_relu(y)\n",
    "        y = self.second_linear(y)\n",
    "        y = self.second_relu(y)\n",
    "        y = self.third_linear(y)\n",
    "        y = self.third_relu(y)\n",
    "        y = self.fourth_linear(y)\n",
    "        y = self.fourth_relu(y)\n",
    "        y = self.fifth_linear(y)\n",
    "        return y"
   ]
  },
  {
   "cell_type": "code",
   "execution_count": null,
   "metadata": {},
   "outputs": [],
   "source": [
    "model = MyRegressionModel()"
   ]
  },
  {
   "cell_type": "code",
   "execution_count": null,
   "metadata": {},
   "outputs": [],
   "source": [
    "loss = nn.MSELoss()\n",
    "# настраиваем оптимизатор и передаем туда параметры модели\n",
    "optimizer = torch.optim.Adam(model.parameters(), lr=0.0025)"
   ]
  },
  {
   "cell_type": "code",
   "execution_count": null,
   "metadata": {},
   "outputs": [],
   "source": [
    "epochs = 50\n",
    "# цикл обучения (по эпохам)\n",
    "for epoch in range(epochs):\n",
    "    # за одну эпоху смотрим все батчи (по batch_size элементов)\n",
    "    for x_b, y_b in train_dl:\n",
    "        # делаем прямое распространение (получаем предсказание)\n",
    "        outputs = model(x_b)\n",
    "        # вычисляем значение функции потерь\n",
    "        loss_value = loss(outputs, y_b)\n",
    "        # делаем backward - вычисляются значения .grad у слоев модели\n",
    "        loss_value.backward()\n",
    "        # делаем шаг градиентного спуска с заданным у оптимизатора learning_rate\n",
    "        optimizer.step()\n",
    "        # зануляем .grad у слоев модели - для нового батча будем акумулировать новый .grad\n",
    "        optimizer.zero_grad()\n",
    "\n",
    "    # в конце эпохи выводим значение функции потерь для последнего рассмотренного батча\n",
    "    print(f'Эпоха {epoch + 1}, Значение функции потерь: {loss_value.item()}')"
   ]
  }
 ],
 "metadata": {
  "kernelspec": {
   "display_name": "Python 3",
   "language": "python",
   "name": "python3"
  },
  "language_info": {
   "codemirror_mode": {
    "name": "ipython",
    "version": 3
   },
   "file_extension": ".py",
   "mimetype": "text/x-python",
   "name": "python",
   "nbconvert_exporter": "python",
   "pygments_lexer": "ipython3",
   "version": "3.11.5"
  }
 },
 "nbformat": 4,
 "nbformat_minor": 2
}
