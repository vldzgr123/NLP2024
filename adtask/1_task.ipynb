{
 "cells": [
  {
   "cell_type": "markdown",
   "metadata": {},
   "source": [
    "# Задание 1. Классификация средствами PyTorch\n",
    "\n",
    "Используя свой датасет для классификации из курса дисциплины \"Машинное обучение\" описать и обучить модель для классификации с помощью PyTorch. Выбрать функцию потерь. Использовать объекты TensorDataset и DataLoader."
   ]
  },
  {
   "cell_type": "code",
   "execution_count": 23,
   "metadata": {},
   "outputs": [],
   "source": [
    "import pandas as pd\n",
    "import numpy as np\n",
    "from sklearn.model_selection import train_test_split\n",
    "from torch.utils.data import TensorDataset, DataLoader\n",
    "import torch.nn as nn\n",
    "import torch\n",
    "from sklearn.preprocessing import StandardScaler\n",
    "from imblearn.under_sampling import NearMiss"
   ]
  },
  {
   "cell_type": "code",
   "execution_count": 19,
   "metadata": {},
   "outputs": [],
   "source": [
    "data = pd.read_csv('../data/csgo_task.csv')"
   ]
  },
  {
   "cell_type": "code",
   "execution_count": 20,
   "metadata": {},
   "outputs": [
    {
     "data": {
      "text/html": [
       "<div>\n",
       "<style scoped>\n",
       "    .dataframe tbody tr th:only-of-type {\n",
       "        vertical-align: middle;\n",
       "    }\n",
       "\n",
       "    .dataframe tbody tr th {\n",
       "        vertical-align: top;\n",
       "    }\n",
       "\n",
       "    .dataframe thead th {\n",
       "        text-align: right;\n",
       "    }\n",
       "</style>\n",
       "<table border=\"1\" class=\"dataframe\">\n",
       "  <thead>\n",
       "    <tr style=\"text-align: right;\">\n",
       "      <th></th>\n",
       "      <th>time_left</th>\n",
       "      <th>ct_score</th>\n",
       "      <th>t_score</th>\n",
       "      <th>map</th>\n",
       "      <th>bomb_planted</th>\n",
       "      <th>ct_health</th>\n",
       "      <th>t_health</th>\n",
       "      <th>ct_armor</th>\n",
       "      <th>t_armor</th>\n",
       "      <th>ct_money</th>\n",
       "      <th>t_money</th>\n",
       "      <th>ct_helmets</th>\n",
       "      <th>t_helmets</th>\n",
       "      <th>ct_defuse_kits</th>\n",
       "      <th>ct_players_alive</th>\n",
       "      <th>t_players_alive</th>\n",
       "    </tr>\n",
       "  </thead>\n",
       "  <tbody>\n",
       "    <tr>\n",
       "      <th>0</th>\n",
       "      <td>175.00</td>\n",
       "      <td>0.0</td>\n",
       "      <td>0.0</td>\n",
       "      <td>de_dust2</td>\n",
       "      <td>False</td>\n",
       "      <td>500.0</td>\n",
       "      <td>500.0</td>\n",
       "      <td>0.0</td>\n",
       "      <td>0.0</td>\n",
       "      <td>4000.0</td>\n",
       "      <td>4000.0</td>\n",
       "      <td>0.0</td>\n",
       "      <td>0.0</td>\n",
       "      <td>0.0</td>\n",
       "      <td>5.0</td>\n",
       "      <td>5.0</td>\n",
       "    </tr>\n",
       "    <tr>\n",
       "      <th>1</th>\n",
       "      <td>156.03</td>\n",
       "      <td>0.0</td>\n",
       "      <td>0.0</td>\n",
       "      <td>de_dust2</td>\n",
       "      <td>False</td>\n",
       "      <td>500.0</td>\n",
       "      <td>500.0</td>\n",
       "      <td>400.0</td>\n",
       "      <td>300.0</td>\n",
       "      <td>600.0</td>\n",
       "      <td>650.0</td>\n",
       "      <td>0.0</td>\n",
       "      <td>0.0</td>\n",
       "      <td>1.0</td>\n",
       "      <td>5.0</td>\n",
       "      <td>5.0</td>\n",
       "    </tr>\n",
       "    <tr>\n",
       "      <th>2</th>\n",
       "      <td>96.03</td>\n",
       "      <td>0.0</td>\n",
       "      <td>0.0</td>\n",
       "      <td>de_dust2</td>\n",
       "      <td>False</td>\n",
       "      <td>391.0</td>\n",
       "      <td>400.0</td>\n",
       "      <td>294.0</td>\n",
       "      <td>200.0</td>\n",
       "      <td>750.0</td>\n",
       "      <td>500.0</td>\n",
       "      <td>0.0</td>\n",
       "      <td>0.0</td>\n",
       "      <td>1.0</td>\n",
       "      <td>4.0</td>\n",
       "      <td>4.0</td>\n",
       "    </tr>\n",
       "    <tr>\n",
       "      <th>3</th>\n",
       "      <td>76.03</td>\n",
       "      <td>0.0</td>\n",
       "      <td>0.0</td>\n",
       "      <td>de_dust2</td>\n",
       "      <td>False</td>\n",
       "      <td>391.0</td>\n",
       "      <td>400.0</td>\n",
       "      <td>294.0</td>\n",
       "      <td>200.0</td>\n",
       "      <td>750.0</td>\n",
       "      <td>500.0</td>\n",
       "      <td>0.0</td>\n",
       "      <td>0.0</td>\n",
       "      <td>1.0</td>\n",
       "      <td>4.0</td>\n",
       "      <td>4.0</td>\n",
       "    </tr>\n",
       "    <tr>\n",
       "      <th>4</th>\n",
       "      <td>174.97</td>\n",
       "      <td>1.0</td>\n",
       "      <td>0.0</td>\n",
       "      <td>de_dust2</td>\n",
       "      <td>False</td>\n",
       "      <td>500.0</td>\n",
       "      <td>500.0</td>\n",
       "      <td>192.0</td>\n",
       "      <td>0.0</td>\n",
       "      <td>18350.0</td>\n",
       "      <td>10750.0</td>\n",
       "      <td>0.0</td>\n",
       "      <td>0.0</td>\n",
       "      <td>1.0</td>\n",
       "      <td>5.0</td>\n",
       "      <td>5.0</td>\n",
       "    </tr>\n",
       "  </tbody>\n",
       "</table>\n",
       "</div>"
      ],
      "text/plain": [
       "   time_left  ct_score  t_score       map  bomb_planted  ct_health  t_health  \\\n",
       "0     175.00       0.0      0.0  de_dust2         False      500.0     500.0   \n",
       "1     156.03       0.0      0.0  de_dust2         False      500.0     500.0   \n",
       "2      96.03       0.0      0.0  de_dust2         False      391.0     400.0   \n",
       "3      76.03       0.0      0.0  de_dust2         False      391.0     400.0   \n",
       "4     174.97       1.0      0.0  de_dust2         False      500.0     500.0   \n",
       "\n",
       "   ct_armor  t_armor  ct_money  t_money  ct_helmets  t_helmets  \\\n",
       "0       0.0      0.0    4000.0   4000.0         0.0        0.0   \n",
       "1     400.0    300.0     600.0    650.0         0.0        0.0   \n",
       "2     294.0    200.0     750.0    500.0         0.0        0.0   \n",
       "3     294.0    200.0     750.0    500.0         0.0        0.0   \n",
       "4     192.0      0.0   18350.0  10750.0         0.0        0.0   \n",
       "\n",
       "   ct_defuse_kits  ct_players_alive  t_players_alive  \n",
       "0             0.0               5.0              5.0  \n",
       "1             1.0               5.0              5.0  \n",
       "2             1.0               4.0              4.0  \n",
       "3             1.0               4.0              4.0  \n",
       "4             1.0               5.0              5.0  "
      ]
     },
     "execution_count": 20,
     "metadata": {},
     "output_type": "execute_result"
    }
   ],
   "source": [
    "data.head()"
   ]
  },
  {
   "cell_type": "markdown",
   "metadata": {},
   "source": [
    "## Обработка"
   ]
  },
  {
   "cell_type": "markdown",
   "metadata": {},
   "source": [
    "- time_left - длительность раунда\n",
    "- ct_score - количество очков у команды контр-террористов\n",
    "- t_score - количество очков у террористов\n",
    "- map - карта\n",
    "- bomb_planted - установлена ли бомба\n",
    "- ct_health и t_health - суммарное здоровье контр-террористов и террористов соответственно\n",
    "- ct_armor и t_armor - суммарная броня контр-террористов и террористов соответственно\n",
    "- ct_money и t_money - суммарное количество денег контр-террористов и террористов соответственно\n",
    "- ct_helmets и t_helmets - суммарное количество шлемов контр-террористов и террористов соответственно\n",
    "- ct_defuse_kits - количество наборов обезвреживания бомбы у контр-террористо\n",
    "- ct_players_alive и t_players_alive - количество живых контр-террористов и террористов соответственно"
   ]
  },
  {
   "cell_type": "code",
   "execution_count": 4,
   "metadata": {},
   "outputs": [],
   "source": [
    "data.drop(['map'], axis=1, inplace=True)"
   ]
  },
  {
   "cell_type": "code",
   "execution_count": 5,
   "metadata": {},
   "outputs": [],
   "source": [
    "data.dropna(inplace=True)"
   ]
  },
  {
   "cell_type": "code",
   "execution_count": 6,
   "metadata": {},
   "outputs": [
    {
     "data": {
      "text/plain": [
       "time_left           0\n",
       "ct_score            0\n",
       "t_score             0\n",
       "bomb_planted        0\n",
       "ct_health           0\n",
       "t_health            0\n",
       "ct_armor            0\n",
       "t_armor             0\n",
       "ct_money            0\n",
       "t_money             0\n",
       "ct_helmets          0\n",
       "t_helmets           0\n",
       "ct_defuse_kits      0\n",
       "ct_players_alive    0\n",
       "t_players_alive     0\n",
       "dtype: int64"
      ]
     },
     "execution_count": 6,
     "metadata": {},
     "output_type": "execute_result"
    }
   ],
   "source": [
    "data.isna().sum()"
   ]
  },
  {
   "cell_type": "code",
   "execution_count": 7,
   "metadata": {},
   "outputs": [],
   "source": [
    "data = data.drop_duplicates().reset_index(drop=True)"
   ]
  },
  {
   "cell_type": "code",
   "execution_count": 8,
   "metadata": {},
   "outputs": [],
   "source": [
    "columns_to_int = [\n",
    "    \"ct_score\",\n",
    "    \"t_score\",\n",
    "    \"ct_health\",\n",
    "    \"t_health\",\n",
    "    \"ct_armor\",\n",
    "    \"t_armor\",\n",
    "    \"ct_money\",\n",
    "    \"t_money\",\n",
    "    \"ct_helmets\",\n",
    "    \"t_helmets\",\n",
    "    \"ct_defuse_kits\",\n",
    "    \"ct_players_alive\",\n",
    "    \"t_players_alive\",\n",
    "    \"bomb_planted\",\n",
    "]\n",
    "\n",
    "for column in columns_to_int:\n",
    "    data[column] = data[column].astype(int)"
   ]
  },
  {
   "cell_type": "markdown",
   "metadata": {},
   "source": [
    "## Создание модели"
   ]
  },
  {
   "cell_type": "code",
   "execution_count": 9,
   "metadata": {},
   "outputs": [],
   "source": [
    "y, X = data['bomb_planted'].values, data.drop(columns=['bomb_planted']).values\n",
    "y = y.reshape(-1, 1)"
   ]
  },
  {
   "cell_type": "code",
   "execution_count": 10,
   "metadata": {},
   "outputs": [
    {
     "data": {
      "text/plain": [
       "((95189, 14), (16799, 14), (95189, 1), (16799, 1))"
      ]
     },
     "execution_count": 10,
     "metadata": {},
     "output_type": "execute_result"
    }
   ],
   "source": [
    "X_train, X_test, y_train, y_test = train_test_split(X, y, test_size=0.15)\n",
    "X_train.shape, X_test.shape, y_train.shape, y_test.shape"
   ]
  },
  {
   "cell_type": "code",
   "execution_count": null,
   "metadata": {},
   "outputs": [],
   "source": [
    "scaler=StandardScaler()\n",
    "scaler.fit(X_train)\n",
    "X_train = scaler.transform(X_train)\n",
    "X_test = scaler.transform(X_test)"
   ]
  },
  {
   "cell_type": "code",
   "execution_count": null,
   "metadata": {},
   "outputs": [],
   "source": [
    "nm = NearMiss()\n",
    "X_train, y_train = nm.fit_resample(X_train, y_train.ravel())"
   ]
  },
  {
   "cell_type": "code",
   "execution_count": 11,
   "metadata": {},
   "outputs": [],
   "source": [
    "train_ds = TensorDataset(torch.from_numpy(X_train).type(torch.float32), torch.from_numpy(y_train).type(torch.float32))\n",
    "train_dl = DataLoader(train_ds, batch_size=256, shuffle=True)"
   ]
  },
  {
   "cell_type": "code",
   "execution_count": 12,
   "metadata": {},
   "outputs": [],
   "source": [
    "test_ds = TensorDataset(torch.from_numpy(X_test), torch.from_numpy(y_test))\n",
    "test_dl = DataLoader(test_ds, batch_size=256, shuffle=True)"
   ]
  },
  {
   "cell_type": "code",
   "execution_count": 13,
   "metadata": {},
   "outputs": [],
   "source": [
    "class MyClassificationModel(nn.Module):\n",
    "    def __init__(self):\n",
    "        super(MyClassificationModel, self).__init__()\n",
    "        self.first_linear = nn.Linear(14, 120)\n",
    "        self.first_relu = nn.ReLU()\n",
    "        self.second_linear = nn.Linear(120, 240)\n",
    "        self.second_relu = nn.ReLU()\n",
    "        self.third_linear = nn.Linear(240, 60)\n",
    "        self.third_relu = nn.ReLU()\n",
    "        self.fourth_linear = nn.Linear(60, 20)\n",
    "        self.fourth_relu = nn.ReLU()\n",
    "        self.fifth_linear = nn.Linear(20, 1)\n",
    "\n",
    "    def forward(self, x):\n",
    "        y = self.first_linear(x)\n",
    "        y = self.first_relu(y)\n",
    "        y = self.second_linear(y)\n",
    "        y = self.second_relu(y)\n",
    "        y = self.third_linear(y)\n",
    "        y = self.third_relu(y)\n",
    "        y = self.fourth_linear(y)\n",
    "        y = self.fourth_relu(y)\n",
    "        y = self.fifth_linear(y)\n",
    "        return y"
   ]
  },
  {
   "cell_type": "code",
   "execution_count": 14,
   "metadata": {},
   "outputs": [],
   "source": [
    "model = MyClassificationModel()"
   ]
  },
  {
   "cell_type": "code",
   "execution_count": 15,
   "metadata": {},
   "outputs": [],
   "source": [
    "loss = nn.MSELoss()\n",
    "optimizer = torch.optim.Adam(model.parameters(), lr=0.0025)"
   ]
  },
  {
   "cell_type": "code",
   "execution_count": 16,
   "metadata": {},
   "outputs": [
    {
     "name": "stdout",
     "output_type": "stream",
     "text": [
      "Эпоха 1, Значение функции потерь: 0.9677443504333496\n",
      "Эпоха 2, Значение функции потерь: 0.25871559977531433\n",
      "Эпоха 3, Значение функции потерь: 0.9090948104858398\n",
      "Эпоха 4, Значение функции потерь: 0.313220351934433\n",
      "Эпоха 5, Значение функции потерь: 0.09332296997308731\n",
      "Эпоха 6, Значение функции потерь: 0.08274494111537933\n",
      "Эпоха 7, Значение функции потерь: 0.1309020221233368\n",
      "Эпоха 8, Значение функции потерь: 0.10662288218736649\n",
      "Эпоха 9, Значение функции потерь: 0.6408851146697998\n",
      "Эпоха 10, Значение функции потерь: 0.07108078896999359\n",
      "Эпоха 11, Значение функции потерь: 0.06297668814659119\n",
      "Эпоха 12, Значение функции потерь: 0.0677107647061348\n",
      "Эпоха 13, Значение функции потерь: 0.09593917429447174\n",
      "Эпоха 14, Значение функции потерь: 0.08188097923994064\n",
      "Эпоха 15, Значение функции потерь: 0.09502673149108887\n",
      "Эпоха 16, Значение функции потерь: 0.05983412265777588\n",
      "Эпоха 17, Значение функции потерь: 0.05693879723548889\n",
      "Эпоха 18, Значение функции потерь: 0.07263408601284027\n",
      "Эпоха 19, Значение функции потерь: 0.044903043657541275\n",
      "Эпоха 20, Значение функции потерь: 0.05387752875685692\n",
      "Эпоха 21, Значение функции потерь: 0.06938090920448303\n",
      "Эпоха 22, Значение функции потерь: 0.05928880721330643\n",
      "Эпоха 23, Значение функции потерь: 0.03648354485630989\n",
      "Эпоха 24, Значение функции потерь: 0.05548043176531792\n",
      "Эпоха 25, Значение функции потерь: 0.05036282539367676\n",
      "Эпоха 26, Значение функции потерь: 0.05151790753006935\n",
      "Эпоха 27, Значение функции потерь: 0.05111643299460411\n",
      "Эпоха 28, Значение функции потерь: 0.04364803433418274\n",
      "Эпоха 29, Значение функции потерь: 0.060484107583761215\n",
      "Эпоха 30, Значение функции потерь: 0.05938168987631798\n",
      "Эпоха 31, Значение функции потерь: 0.04681289196014404\n",
      "Эпоха 32, Значение функции потерь: 0.045140355825424194\n",
      "Эпоха 33, Значение функции потерь: 0.04520862177014351\n",
      "Эпоха 34, Значение функции потерь: 0.05104338005185127\n",
      "Эпоха 35, Значение функции потерь: 0.039891500025987625\n",
      "Эпоха 36, Значение функции потерь: 0.045553501695394516\n",
      "Эпоха 37, Значение функции потерь: 0.057332295924425125\n",
      "Эпоха 38, Значение функции потерь: 0.051094844937324524\n",
      "Эпоха 39, Значение функции потерь: 0.053760986775159836\n",
      "Эпоха 40, Значение функции потерь: 0.03649097681045532\n",
      "Эпоха 41, Значение функции потерь: 0.038448844105005264\n",
      "Эпоха 42, Значение функции потерь: 0.0448039211332798\n",
      "Эпоха 43, Значение функции потерь: 0.0625971332192421\n",
      "Эпоха 44, Значение функции потерь: 0.04901985451579094\n",
      "Эпоха 45, Значение функции потерь: 0.04640962928533554\n",
      "Эпоха 46, Значение функции потерь: 0.05021887645125389\n",
      "Эпоха 47, Значение функции потерь: 0.05272778123617172\n",
      "Эпоха 48, Значение функции потерь: 0.04426303878426552\n",
      "Эпоха 49, Значение функции потерь: 0.04001670330762863\n",
      "Эпоха 50, Значение функции потерь: 0.04004406929016113\n"
     ]
    }
   ],
   "source": [
    "epochs = 50\n",
    "for epoch in range(epochs):\n",
    "    for x_b, y_b in train_dl:\n",
    "        outputs = model(x_b)\n",
    "        loss_value = loss(outputs, y_b)\n",
    "        loss_value.backward()\n",
    "        optimizer.step()\n",
    "        optimizer.zero_grad()\n",
    "\n",
    "    print(f'Эпоха {epoch + 1}, Значение функции потерь: {loss_value.item()}')"
   ]
  },
  {
   "cell_type": "code",
   "execution_count": 38,
   "metadata": {},
   "outputs": [
    {
     "name": "stdout",
     "output_type": "stream",
     "text": [
      "              precision    recall  f1-score   support\n",
      "\n",
      "           0       0.88      1.00      0.94     14769\n",
      "           1       0.00      0.00      0.00      2030\n",
      "\n",
      "    accuracy                           0.88     16799\n",
      "   macro avg       0.44      0.50      0.47     16799\n",
      "weighted avg       0.77      0.88      0.82     16799\n",
      "\n"
     ]
    },
    {
     "name": "stderr",
     "output_type": "stream",
     "text": [
      "c:\\Users\\vlszg\\AppData\\Local\\Programs\\Python\\Python311\\Lib\\site-packages\\sklearn\\metrics\\_classification.py:1471: UndefinedMetricWarning: Precision and F-score are ill-defined and being set to 0.0 in labels with no predicted samples. Use `zero_division` parameter to control this behavior.\n",
      "  _warn_prf(average, modifier, msg_start, len(result))\n",
      "c:\\Users\\vlszg\\AppData\\Local\\Programs\\Python\\Python311\\Lib\\site-packages\\sklearn\\metrics\\_classification.py:1471: UndefinedMetricWarning: Precision and F-score are ill-defined and being set to 0.0 in labels with no predicted samples. Use `zero_division` parameter to control this behavior.\n",
      "  _warn_prf(average, modifier, msg_start, len(result))\n",
      "c:\\Users\\vlszg\\AppData\\Local\\Programs\\Python\\Python311\\Lib\\site-packages\\sklearn\\metrics\\_classification.py:1471: UndefinedMetricWarning: Precision and F-score are ill-defined and being set to 0.0 in labels with no predicted samples. Use `zero_division` parameter to control this behavior.\n",
      "  _warn_prf(average, modifier, msg_start, len(result))\n"
     ]
    }
   ],
   "source": [
    "y_pred = model(torch.from_numpy(X_test).type(torch.float32))\n",
    "\n",
    "from sklearn.metrics import classification_report\n",
    "\n",
    "print(classification_report(y_test, np.argmax(y_pred.detach().numpy(), axis=1)))"
   ]
  }
 ],
 "metadata": {
  "kernelspec": {
   "display_name": "Python 3",
   "language": "python",
   "name": "python3"
  },
  "language_info": {
   "codemirror_mode": {
    "name": "ipython",
    "version": 3
   },
   "file_extension": ".py",
   "mimetype": "text/x-python",
   "name": "python",
   "nbconvert_exporter": "python",
   "pygments_lexer": "ipython3",
   "version": "3.11.5"
  }
 },
 "nbformat": 4,
 "nbformat_minor": 2
}
