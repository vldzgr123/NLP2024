{
 "cells": [
  {
   "cell_type": "markdown",
   "metadata": {},
   "source": [
    "# Задание №2. Парсинг HH.ru + предобработка текстовых данных\n",
    "Используя публичный API сайта HeadHunter (особое внимание на метод https://api.hh.ru/vacancies/<id>) необходимо:\n",
    "\n",
    "- скачать минимум 200 вакансий по заданному ключевому слову (можете задать слова, характеризующие профессии в IT); если вакансий менее 200 - скачать все, что есть;\n",
    "\n",
    "- предобработать каждую вакансию (очистить от тегов и специальных символов, токенизировать, нормализовать любым из двух способов, удалить стоп-слова);\n",
    "\n",
    "- сохранить все полученные вакансии (список списков токенов) на диск (Google Drive) с помощью pickle."
   ]
  },
  {
   "cell_type": "code",
   "execution_count": null,
   "metadata": {},
   "outputs": [],
   "source": [
    "import requests\n",
    "import pandas as pd\n",
    "from torch import nn\n",
    "from nltk.corpus import stopwords\n",
    "from nltk.tokenize import word_tokenize\n",
    "import re\n",
    "from pymorphy3 import MorphAnalyzer\n",
    "import string\n",
    "import numpy as np"
   ]
  }
 ],
 "metadata": {
  "kernelspec": {
   "display_name": "venv",
   "language": "python",
   "name": "python3"
  },
  "language_info": {
   "name": "python",
   "version": "3.11.5"
  }
 },
 "nbformat": 4,
 "nbformat_minor": 2
}
