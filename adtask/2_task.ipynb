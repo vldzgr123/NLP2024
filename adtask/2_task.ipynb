{
  "cells": [
    {
      "cell_type": "markdown",
      "metadata": {
        "id": "EmN-rmAeZ31h"
      },
      "source": [
        "# Задание №2. Парсинг HH.ru + предобработка текстовых данных\n",
        "Используя публичный API сайта HeadHunter (особое внимание на метод https://api.hh.ru/vacancies/<id>) необходимо:\n",
        "\n",
        "- скачать минимум 200 вакансий по заданному ключевому слову (можете задать слова, характеризующие профессии в IT); если вакансий менее 200 - скачать все, что есть;\n",
        "\n",
        "- предобработать каждую вакансию (очистить от тегов и специальных символов, токенизировать, нормализовать любым из двух способов, удалить стоп-слова);\n",
        "\n",
        "- сохранить все полученные вакансии (список списков токенов) на диск (Google Drive) с помощью pickle."
      ]
    },
    {
      "cell_type": "code",
      "source": [
        "nltk.download('stopwords')\n",
        "nltk.download('punkt')\n",
        "nltk.download('punkt_tab')"
      ],
      "metadata": {
        "colab": {
          "base_uri": "https://localhost:8080/"
        },
        "id": "MMOoD3WAaCWe",
        "outputId": "82656b0d-a52d-47b4-8858-78af1a44ce40"
      },
      "execution_count": 45,
      "outputs": [
        {
          "output_type": "stream",
          "name": "stderr",
          "text": [
            "[nltk_data] Downloading package stopwords to /root/nltk_data...\n",
            "[nltk_data]   Package stopwords is already up-to-date!\n",
            "[nltk_data] Downloading package punkt to /root/nltk_data...\n",
            "[nltk_data]   Package punkt is already up-to-date!\n",
            "[nltk_data] Downloading package punkt_tab to /root/nltk_data...\n",
            "[nltk_data]   Package punkt_tab is already up-to-date!\n"
          ]
        },
        {
          "output_type": "execute_result",
          "data": {
            "text/plain": [
              "True"
            ]
          },
          "metadata": {},
          "execution_count": 45
        }
      ]
    },
    {
      "cell_type": "code",
      "source": [
        "#pip install pymorphy3"
      ],
      "metadata": {
        "id": "g1QPDNhbaL_T"
      },
      "execution_count": 46,
      "outputs": []
    },
    {
      "cell_type": "code",
      "execution_count": 47,
      "metadata": {
        "id": "_Xc1avWLZ31l"
      },
      "outputs": [],
      "source": [
        "import requests\n",
        "from nltk.corpus import stopwords\n",
        "from nltk.tokenize import word_tokenize\n",
        "import nltk\n",
        "import re\n",
        "from pymorphy3 import MorphAnalyzer\n",
        "import string\n",
        "import numpy as np\n",
        "import pickle"
      ]
    },
    {
      "cell_type": "code",
      "execution_count": 48,
      "metadata": {
        "id": "etTFnXcoZ31n"
      },
      "outputs": [],
      "source": [
        "morph = MorphAnalyzer()\n",
        "stopwords = stopwords.words(\"russian\")\n",
        "\n",
        "\n",
        "def preProccesingData(text):\n",
        "    text_no_html = re.sub('<[^>]*>', '', text)\n",
        "    only_letters = re.sub(\"[^\\s^\\w]+\", \" \", text_no_html)\n",
        "    tokenized = word_tokenize(only_letters)\n",
        "    normalized = [morph.normal_forms(word)[0] for word in tokenized]\n",
        "    no_stop_words = [\n",
        "        word\n",
        "        for word in normalized\n",
        "        if (\n",
        "            (word not in string.punctuation)\n",
        "            and (word not in stopwords)\n",
        "            and word.isalpha()\n",
        "        )\n",
        "    ]\n",
        "    return no_stop_words"
      ]
    },
    {
      "cell_type": "code",
      "source": [
        "from google.colab import drive\n",
        "drive.mount('/content/drive')"
      ],
      "metadata": {
        "colab": {
          "base_uri": "https://localhost:8080/"
        },
        "id": "HdIFT3YFdHA8",
        "outputId": "46e66685-3f1d-4a43-a82c-76a6a94f9f53"
      },
      "execution_count": 49,
      "outputs": [
        {
          "output_type": "stream",
          "name": "stdout",
          "text": [
            "Mounted at /content/drive\n"
          ]
        }
      ]
    },
    {
      "cell_type": "code",
      "execution_count": 50,
      "metadata": {
        "id": "FIQF9p_gZ31o"
      },
      "outputs": [],
      "source": [
        "def fetch_vacancies(keyword, max_vacancies=200):\n",
        "    vacancies = []\n",
        "    page = 0\n",
        "\n",
        "    while len(vacancies) < max_vacancies:\n",
        "        response = requests.get(\n",
        "            \"https://api.hh.ru/vacancies\", params={\"text\": keyword, \"page\": page}\n",
        "        )\n",
        "        data = response.json()\n",
        "        page += 1\n",
        "\n",
        "        if not data[\"items\"]:\n",
        "            break\n",
        "\n",
        "        for item in data[\"items\"]:\n",
        "            vacancy_id = item[\"id\"]\n",
        "            vacancy_response = requests.get(f\"https://api.hh.ru/vacancies/{vacancy_id}\")\n",
        "            vacancy_data = vacancy_response.json()\n",
        "            description = vacancy_data.get(\"description\", \"\")\n",
        "\n",
        "            # Предобрабатываем описание\n",
        "            tokens = preProccesingData(description)\n",
        "            vacancies.append(tokens)\n",
        "\n",
        "            if len(vacancies) >= max_vacancies:\n",
        "                break\n",
        "\n",
        "    return vacancies"
      ]
    },
    {
      "cell_type": "code",
      "source": [
        "keyword = \"Тестировщик\"\n",
        "vacancies = fetch_vacancies(keyword)"
      ],
      "metadata": {
        "id": "EcmnZXNTac6c"
      },
      "execution_count": 51,
      "outputs": []
    },
    {
      "cell_type": "code",
      "source": [
        "vacancies[0]"
      ],
      "metadata": {
        "colab": {
          "base_uri": "https://localhost:8080/"
        },
        "id": "EmVuot4Da28r",
        "outputId": "e9d956bd-ec97-476b-90eb-4b33d673875b"
      },
      "execution_count": 52,
      "outputs": [
        {
          "output_type": "execute_result",
          "data": {
            "text/plain": [
              "['предлагать',\n",
              " 'стажировка',\n",
              " 'frontend',\n",
              " 'react',\n",
              " 'backend',\n",
              " 'java',\n",
              " 'spring',\n",
              " 'разработчик',\n",
              " 'существующий',\n",
              " 'проект',\n",
              " 'получение',\n",
              " 'опыт',\n",
              " 'коммерческий',\n",
              " 'разработка',\n",
              " 'готовый',\n",
              " 'рассмотреть',\n",
              " 'также',\n",
              " 'кандидат',\n",
              " 'навык',\n",
              " 'бизнес',\n",
              " 'анализ',\n",
              " 'также',\n",
              " 'qa',\n",
              " 'дизайнер',\n",
              " 'предложение',\n",
              " 'мочь',\n",
              " 'полезно',\n",
              " 'данный',\n",
              " 'момент',\n",
              " 'работать',\n",
              " 'либо',\n",
              " 'иметь',\n",
              " 'время',\n",
              " 'желание',\n",
              " 'трудиться',\n",
              " 'команда',\n",
              " 'развивать',\n",
              " 'свой',\n",
              " 'навык',\n",
              " 'помогать',\n",
              " 'развиваться',\n",
              " 'работа',\n",
              " 'проект',\n",
              " 'команда',\n",
              " 'помочь',\n",
              " 'быстрый',\n",
              " 'найти',\n",
              " 'оплачивать',\n",
              " 'работа',\n",
              " 'иметь',\n",
              " 'преимущество',\n",
              " 'сравнение',\n",
              " 'самостоятельный',\n",
              " 'развитие',\n",
              " 'ваш',\n",
              " 'трудоустройство',\n",
              " 'данный',\n",
              " 'момент',\n",
              " 'накопление',\n",
              " 'опыт',\n",
              " 'месяц',\n",
              " 'год',\n",
              " 'важный',\n",
              " 'преимущество',\n",
              " 'резюме',\n",
              " 'описание',\n",
              " 'проект',\n",
              " 'веб',\n",
              " 'приложение',\n",
              " 'планирование',\n",
              " 'задача',\n",
              " 'данный',\n",
              " 'момент',\n",
              " 'приносить',\n",
              " 'доход',\n",
              " 'разрабатываться',\n",
              " 'исключительно',\n",
              " 'сила',\n",
              " 'стажёр',\n",
              " 'разрабатываться',\n",
              " 'около',\n",
              " 'год',\n",
              " 'команда',\n",
              " 'около',\n",
              " 'стажёр',\n",
              " 'backend',\n",
              " 'frontend',\n",
              " 'разработчик',\n",
              " 'тестировщик',\n",
              " 'бизнес',\n",
              " 'аналитик',\n",
              " 'дизайнер',\n",
              " 'девопс',\n",
              " 'backend',\n",
              " 'писаться',\n",
              " 'джава',\n",
              " 'фронт',\n",
              " 'react',\n",
              " 'js',\n",
              " 'мобильный',\n",
              " 'приложение',\n",
              " 'react',\n",
              " 'native',\n",
              " 'условие',\n",
              " 'проект',\n",
              " 'данный',\n",
              " 'момент',\n",
              " 'приносить',\n",
              " 'доход',\n",
              " 'поэтому',\n",
              " 'оплата',\n",
              " 'работа',\n",
              " 'ментор',\n",
              " 'коммерческий',\n",
              " 'опыт',\n",
              " 'проект',\n",
              " 'активно',\n",
              " 'искать',\n",
              " 'сколько',\n",
              " 'уделять',\n",
              " 'время',\n",
              " 'работа',\n",
              " 'ваш',\n",
              " 'выбор',\n",
              " 'менее',\n",
              " 'час',\n",
              " 'день',\n",
              " 'безусловно',\n",
              " 'уделять',\n",
              " 'большой',\n",
              " 'внимание',\n",
              " 'показывать',\n",
              " 'больший',\n",
              " 'результат',\n",
              " 'приносить',\n",
              " 'большой',\n",
              " 'польза',\n",
              " 'начало',\n",
              " 'работа',\n",
              " 'нужно',\n",
              " 'заключить',\n",
              " 'соглашение',\n",
              " 'право',\n",
              " 'продукт',\n",
              " 'который',\n",
              " 'работать',\n",
              " 'имущественный',\n",
              " 'право',\n",
              " 'принадлежать',\n",
              " 'исключительно',\n",
              " 'наш',\n",
              " 'юрлицо',\n",
              " 'актуальный',\n",
              " 'задача',\n",
              " 'разработка',\n",
              " 'фронтенд',\n",
              " 'бэкенд',\n",
              " 'приложение',\n",
              " 'требование',\n",
              " 'малый',\n",
              " 'мера',\n",
              " 'пройти',\n",
              " 'самостоятельно',\n",
              " 'изучить',\n",
              " 'курс',\n",
              " 'разработка',\n",
              " 'случай',\n",
              " 'появление',\n",
              " 'вакансия',\n",
              " 'внешний',\n",
              " 'заказчик',\n",
              " 'предложить',\n",
              " 'оплачивать',\n",
              " 'работа',\n",
              " 'договор',\n",
              " 'наш',\n",
              " 'юридический',\n",
              " 'лицо',\n",
              " 'просьба',\n",
              " 'высылать',\n",
              " 'сопроводительный',\n",
              " 'письмо',\n",
              " 'также',\n",
              " 'указывать',\n",
              " 'количество',\n",
              " 'час',\n",
              " 'неделя',\n",
              " 'готовый',\n",
              " 'работать',\n",
              " 'дневный',\n",
              " 'время',\n",
              " 'начинать',\n",
              " 'московский',\n",
              " 'время']"
            ]
          },
          "metadata": {},
          "execution_count": 52
        }
      ]
    },
    {
      "cell_type": "code",
      "execution_count": 53,
      "metadata": {
        "id": "XKqYzkNUZ31p"
      },
      "outputs": [],
      "source": [
        "with open('/content/drive/MyDrive/vacancies_tokens.pkl', 'wb') as f:\n",
        "        pickle.dump(vacancies, f)"
      ]
    }
  ],
  "metadata": {
    "kernelspec": {
      "display_name": "venv",
      "language": "python",
      "name": "python3"
    },
    "language_info": {
      "name": "python",
      "version": "3.11.5"
    },
    "colab": {
      "provenance": []
    }
  },
  "nbformat": 4,
  "nbformat_minor": 0
}